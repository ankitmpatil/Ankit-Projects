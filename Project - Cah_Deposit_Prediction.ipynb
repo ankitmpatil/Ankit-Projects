{
 "cells": [
  {
   "cell_type": "code",
   "execution_count": 10,
   "metadata": {},
   "outputs": [],
   "source": [
    "# Import Libraries\n",
    "import os\n",
    "import pandas as pd\n",
    "import numpy as np\n",
    "from sklearn.preprocessing import LabelEncoder\n",
    "from sklearn.model_selection import train_test_split\n",
    "from sklearn.tree import DecisionTreeRegressor\n",
    "from sklearn.metrics import mean_squared_error\n",
    "\n",
    "import warnings\n",
    "warnings.filterwarnings('ignore')"
   ]
  },
  {
   "cell_type": "code",
   "execution_count": 11,
   "metadata": {},
   "outputs": [
    {
     "name": "stdout",
     "output_type": "stream",
     "text": [
      "serial_number          0\n",
      "main_office            0\n",
      "branch_number          0\n",
      "established_date       0\n",
      "acquired_date       1493\n",
      "city                   0\n",
      "county                 0\n",
      "state                  0\n",
      "2010_deposits        740\n",
      "2011_deposits        578\n",
      "2012_deposits        329\n",
      "2013_deposits        175\n",
      "2014_deposits         56\n",
      "2015_deposits         19\n",
      "2016_deposits          0\n",
      "dtype: int64\n"
     ]
    }
   ],
   "source": [
    "# Code starts here\n",
    "# Read the file\n",
    "df = pd.read_csv(r\"C:\\Users\\tdhoble\\Downloads\\cash_deposit_prediction.csv\")\n",
    "\n",
    "# First 5 rows\n",
    "df.head()\n",
    "\n",
    "# Clean the column names\n",
    "df.columns = df.columns.str.lower().str.replace(' ','_')\n",
    "\n",
    "# Replace 'NaN'\n",
    "df.replace('NaN',np.nan,inplace=True)\n",
    "\n",
    "print(df.isnull().sum())\n",
    "# Code ends here"
   ]
  },
  {
   "cell_type": "code",
   "execution_count": 12,
   "metadata": {},
   "outputs": [],
   "source": [
    "\n",
    "df.set_index(keys='serial_number',inplace=True,drop=True)\n",
    "\n",
    "# Code starts here\n",
    "\n",
    "df[['established_date','acquired_date']] = df[['established_date','acquired_date']].apply(pd.to_datetime)\n",
    "\n",
    "y = df['2016_deposits']\n",
    "X = df.drop('2016_deposits', axis=1)\n",
    "\n",
    "X_train, X_val, y_train, y_val = train_test_split(X, y, test_size = 0.25, random_state = 3) \n",
    "# Code ends here"
   ]
  },
  {
   "cell_type": "code",
   "execution_count": 13,
   "metadata": {},
   "outputs": [],
   "source": [
    "# time_col = X_train.select_dtypes(exclude=[np.number,'O']).columns\n",
    "time_col = ['established_date', 'acquired_date']\n",
    "\n",
    "# Code starts here\n",
    "for dataframe in [X_train, X_val]:\n",
    "    for col_name in time_col:\n",
    "        new_col_name = \"since_\"+col_name\n",
    "        dataframe[new_col_name] = pd.datetime.now() - dataframe[col_name]\n",
    "        dataframe[new_col_name] = dataframe[new_col_name].apply(lambda x: float(x.days)/365)\n",
    "        dataframe.drop(col_name, axis=1, inplace=True)\n",
    "# Code ends here"
   ]
  },
  {
   "cell_type": "code",
   "execution_count": 14,
   "metadata": {},
   "outputs": [
    {
     "name": "stdout",
     "output_type": "stream",
     "text": [
      "               main_office  branch_number  2010_deposits  2011_deposits  \\\n",
      "serial_number                                                             \n",
      "2606                     0           6509        19374.0        23293.0   \n",
      "2001                     0           5415        33042.0        34507.0   \n",
      "2768                     0           6774         8855.0        18624.0   \n",
      "1724                     0           4969       109197.0       132822.0   \n",
      "1120                     0           4317        14274.0        15475.0   \n",
      "\n",
      "               2012_deposits  2013_deposits  2014_deposits  2015_deposits  \\\n",
      "serial_number                                                               \n",
      "2606                 26564.0        28966.0        33219.0        38892.0   \n",
      "2001                 39912.0        65500.0        74012.0        76850.0   \n",
      "2768                 24435.0        54422.0        63150.0        79338.0   \n",
      "1724                127834.0       132220.0       146477.0       159482.0   \n",
      "1120                 18996.0        22121.0        26961.0        30652.0   \n",
      "\n",
      "               since_established_date  since_acquired_date  ...  state_14  \\\n",
      "serial_number                                               ...             \n",
      "2606                        13.084932            10.871233  ...         0   \n",
      "2001                        17.775342            10.871233  ...         0   \n",
      "2768                        10.663014             0.000000  ...         0   \n",
      "1724                        41.624658            10.871233  ...         0   \n",
      "1120                        11.701370             0.000000  ...         0   \n",
      "\n",
      "               state_15  state_16  state_17  state_18  state_19  state_20  \\\n",
      "serial_number                                                               \n",
      "2606                  0         0         0         0         0         0   \n",
      "2001                  0         0         0         0         0         0   \n",
      "2768                  0         0         0         0         0         1   \n",
      "1724                  0         0         0         0         0         0   \n",
      "1120                  0         0         0         0         0         0   \n",
      "\n",
      "               state_21  state_22  state_23  \n",
      "serial_number                                \n",
      "2606                  0         0         0  \n",
      "2001                  0         0         0  \n",
      "2768                  0         0         0  \n",
      "1724                  0         0         0  \n",
      "1120                  0         0         0  \n",
      "\n",
      "[5 rows x 1552 columns]\n"
     ]
    }
   ],
   "source": [
    "cat = X_train.select_dtypes(include='O').columns.tolist()\n",
    "\n",
    "# Code starts here\n",
    "X_train.fillna(0, inplace=True)\n",
    "X_val.fillna(0, inplace=True)\n",
    "\n",
    "le = LabelEncoder()\n",
    "for df in [X_train, X_val]:\n",
    "    for col in cat:\n",
    "        df[col] = le.fit_transform(df[col])\n",
    "\n",
    "X_train_temp = pd.get_dummies(data = X_train, columns = cat)\n",
    "X_val_temp = pd.get_dummies(data = X_val, columns = cat)\n",
    "\n",
    "print(X_train_temp.head())\n",
    "# Code ends here"
   ]
  },
  {
   "cell_type": "code",
   "execution_count": 15,
   "metadata": {},
   "outputs": [
    {
     "name": "stdout",
     "output_type": "stream",
     "text": [
      "rmse for DecisionTreeRegressor:  68372.52930639003\n"
     ]
    }
   ],
   "source": [
    "# Code starts here\n",
    "dt = DecisionTreeRegressor(random_state = 5)\n",
    "dt.fit(X_train, y_train)\n",
    "\n",
    "accuracy = dt.score(X_val, y_val)\n",
    "\n",
    "y_pred = dt.predict(X_val)\n",
    "rmse = np.sqrt(mean_squared_error(y_pred, y_val))\n",
    "\n",
    "print(\"rmse for DecisionTreeRegressor: \",rmse)"
   ]
  },
  {
   "cell_type": "code",
   "execution_count": 16,
   "metadata": {},
   "outputs": [
    {
     "name": "stdout",
     "output_type": "stream",
     "text": [
      "[11:10:16] WARNING: C:/Jenkins/workspace/xgboost-win64_release_0.90/src/objective/regression_obj.cu:152: reg:linear is now deprecated in favor of reg:squarederror.\n",
      "rmse for XGBRegressor:  129468.29847399698\n"
     ]
    }
   ],
   "source": [
    "from xgboost import XGBRegressor\n",
    "\n",
    "\n",
    "# Code starts here\n",
    "xgb = XGBRegressor(max_depth=50, learning_rate=0.83, n_estimators=100)\n",
    "\n",
    "xgb.fit(X_train, y_train)\n",
    "accuracy = xgb.score(X_val, y_val)\n",
    "\n",
    "y_pred = xgb.predict(X_val)\n",
    "\n",
    "rmse = np.sqrt(mean_squared_error(y_pred, y_val))\n",
    "\n",
    "print(\"rmse for XGBRegressor: \",rmse)\n",
    "# Code ends here"
   ]
  }
 ],
 "metadata": {
  "kernelspec": {
   "display_name": "Python 3",
   "language": "python",
   "name": "python3"
  },
  "language_info": {
   "codemirror_mode": {
    "name": "ipython",
    "version": 3
   },
   "file_extension": ".py",
   "mimetype": "text/x-python",
   "name": "python",
   "nbconvert_exporter": "python",
   "pygments_lexer": "ipython3",
   "version": "3.7.3"
  }
 },
 "nbformat": 4,
 "nbformat_minor": 2
}
