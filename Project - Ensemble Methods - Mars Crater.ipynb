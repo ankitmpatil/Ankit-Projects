{
 "cells": [
  {
   "cell_type": "code",
   "execution_count": 8,
   "metadata": {},
   "outputs": [],
   "source": [
    "from sklearn.model_selection import train_test_split\n",
    "from sklearn.preprocessing import MinMaxScaler\n",
    "import pandas as pd\n",
    "\n",
    "import warnings\n",
    "warnings.filterwarnings(\"ignore\")"
   ]
  },
  {
   "cell_type": "code",
   "execution_count": 9,
   "metadata": {},
   "outputs": [
    {
     "data": {
      "text/html": [
       "<div>\n",
       "<style scoped>\n",
       "    .dataframe tbody tr th:only-of-type {\n",
       "        vertical-align: middle;\n",
       "    }\n",
       "\n",
       "    .dataframe tbody tr th {\n",
       "        vertical-align: top;\n",
       "    }\n",
       "\n",
       "    .dataframe thead th {\n",
       "        text-align: right;\n",
       "    }\n",
       "</style>\n",
       "<table border=\"1\" class=\"dataframe\">\n",
       "  <thead>\n",
       "    <tr style=\"text-align: right;\">\n",
       "      <th></th>\n",
       "      <th>Unnamed: 0</th>\n",
       "      <th>attr0</th>\n",
       "      <th>attr1</th>\n",
       "      <th>attr2</th>\n",
       "      <th>attr3</th>\n",
       "      <th>attr4</th>\n",
       "      <th>attr5</th>\n",
       "      <th>attr6</th>\n",
       "      <th>attr7</th>\n",
       "      <th>attr8</th>\n",
       "      <th>...</th>\n",
       "      <th>attr1080</th>\n",
       "      <th>attr1081</th>\n",
       "      <th>attr1082</th>\n",
       "      <th>attr1083</th>\n",
       "      <th>attr1084</th>\n",
       "      <th>attr1085</th>\n",
       "      <th>attr1086</th>\n",
       "      <th>attr1087</th>\n",
       "      <th>attr1088</th>\n",
       "      <th>attr1089</th>\n",
       "    </tr>\n",
       "  </thead>\n",
       "  <tbody>\n",
       "    <tr>\n",
       "      <th>1864</th>\n",
       "      <td>1864</td>\n",
       "      <td>-7.445838</td>\n",
       "      <td>-6.855387</td>\n",
       "      <td>-19.013977</td>\n",
       "      <td>0.255249</td>\n",
       "      <td>2.955017</td>\n",
       "      <td>-6.781779</td>\n",
       "      <td>0.311422</td>\n",
       "      <td>-2.328030</td>\n",
       "      <td>-5.535956</td>\n",
       "      <td>...</td>\n",
       "      <td>106.189451</td>\n",
       "      <td>114.284044</td>\n",
       "      <td>89.715820</td>\n",
       "      <td>66.478760</td>\n",
       "      <td>94.099842</td>\n",
       "      <td>97.466465</td>\n",
       "      <td>122.328636</td>\n",
       "      <td>120.226990</td>\n",
       "      <td>121.891606</td>\n",
       "      <td>1</td>\n",
       "    </tr>\n",
       "    <tr>\n",
       "      <th>2876</th>\n",
       "      <td>2876</td>\n",
       "      <td>-0.373009</td>\n",
       "      <td>-9.672283</td>\n",
       "      <td>-104.071901</td>\n",
       "      <td>-116.490233</td>\n",
       "      <td>-25.245746</td>\n",
       "      <td>-4.767437</td>\n",
       "      <td>0.150492</td>\n",
       "      <td>-0.699297</td>\n",
       "      <td>-2.105421</td>\n",
       "      <td>...</td>\n",
       "      <td>91.947396</td>\n",
       "      <td>114.975654</td>\n",
       "      <td>105.147475</td>\n",
       "      <td>74.327189</td>\n",
       "      <td>50.486939</td>\n",
       "      <td>77.461181</td>\n",
       "      <td>139.330868</td>\n",
       "      <td>180.600246</td>\n",
       "      <td>143.669681</td>\n",
       "      <td>1</td>\n",
       "    </tr>\n",
       "    <tr>\n",
       "      <th>7223</th>\n",
       "      <td>7223</td>\n",
       "      <td>9.418900</td>\n",
       "      <td>17.589000</td>\n",
       "      <td>6.387900</td>\n",
       "      <td>3.707000</td>\n",
       "      <td>2.722600</td>\n",
       "      <td>28.099000</td>\n",
       "      <td>51.616000</td>\n",
       "      <td>5.758600</td>\n",
       "      <td>-27.288000</td>\n",
       "      <td>...</td>\n",
       "      <td>90.662000</td>\n",
       "      <td>77.657000</td>\n",
       "      <td>70.717000</td>\n",
       "      <td>64.443000</td>\n",
       "      <td>102.820000</td>\n",
       "      <td>90.310000</td>\n",
       "      <td>81.750000</td>\n",
       "      <td>75.430000</td>\n",
       "      <td>89.821000</td>\n",
       "      <td>1</td>\n",
       "    </tr>\n",
       "    <tr>\n",
       "      <th>1792</th>\n",
       "      <td>1792</td>\n",
       "      <td>1.394485</td>\n",
       "      <td>5.807078</td>\n",
       "      <td>-2.606611</td>\n",
       "      <td>-2.626129</td>\n",
       "      <td>0.327243</td>\n",
       "      <td>-7.678602</td>\n",
       "      <td>0.988003</td>\n",
       "      <td>24.496996</td>\n",
       "      <td>7.498108</td>\n",
       "      <td>...</td>\n",
       "      <td>125.268473</td>\n",
       "      <td>130.440715</td>\n",
       "      <td>123.016059</td>\n",
       "      <td>112.370877</td>\n",
       "      <td>103.139553</td>\n",
       "      <td>99.073895</td>\n",
       "      <td>148.959955</td>\n",
       "      <td>153.723548</td>\n",
       "      <td>132.319630</td>\n",
       "      <td>1</td>\n",
       "    </tr>\n",
       "    <tr>\n",
       "      <th>1016</th>\n",
       "      <td>1016</td>\n",
       "      <td>-10.098181</td>\n",
       "      <td>-9.920742</td>\n",
       "      <td>-10.120856</td>\n",
       "      <td>12.843552</td>\n",
       "      <td>8.861226</td>\n",
       "      <td>1.432109</td>\n",
       "      <td>-15.254279</td>\n",
       "      <td>-3.788127</td>\n",
       "      <td>18.496657</td>\n",
       "      <td>...</td>\n",
       "      <td>52.016404</td>\n",
       "      <td>54.876085</td>\n",
       "      <td>71.740696</td>\n",
       "      <td>78.733127</td>\n",
       "      <td>92.501683</td>\n",
       "      <td>92.318857</td>\n",
       "      <td>80.857308</td>\n",
       "      <td>81.210217</td>\n",
       "      <td>94.117250</td>\n",
       "      <td>0</td>\n",
       "    </tr>\n",
       "  </tbody>\n",
       "</table>\n",
       "<p>5 rows × 1091 columns</p>\n",
       "</div>"
      ],
      "text/plain": [
       "      Unnamed: 0      attr0      attr1       attr2       attr3      attr4  \\\n",
       "1864        1864  -7.445838  -6.855387  -19.013977    0.255249   2.955017   \n",
       "2876        2876  -0.373009  -9.672283 -104.071901 -116.490233 -25.245746   \n",
       "7223        7223   9.418900  17.589000    6.387900    3.707000   2.722600   \n",
       "1792        1792   1.394485   5.807078   -2.606611   -2.626129   0.327243   \n",
       "1016        1016 -10.098181  -9.920742  -10.120856   12.843552   8.861226   \n",
       "\n",
       "          attr5      attr6      attr7      attr8  ...    attr1080    attr1081  \\\n",
       "1864  -6.781779   0.311422  -2.328030  -5.535956  ...  106.189451  114.284044   \n",
       "2876  -4.767437   0.150492  -0.699297  -2.105421  ...   91.947396  114.975654   \n",
       "7223  28.099000  51.616000   5.758600 -27.288000  ...   90.662000   77.657000   \n",
       "1792  -7.678602   0.988003  24.496996   7.498108  ...  125.268473  130.440715   \n",
       "1016   1.432109 -15.254279  -3.788127  18.496657  ...   52.016404   54.876085   \n",
       "\n",
       "        attr1082    attr1083    attr1084   attr1085    attr1086    attr1087  \\\n",
       "1864   89.715820   66.478760   94.099842  97.466465  122.328636  120.226990   \n",
       "2876  105.147475   74.327189   50.486939  77.461181  139.330868  180.600246   \n",
       "7223   70.717000   64.443000  102.820000  90.310000   81.750000   75.430000   \n",
       "1792  123.016059  112.370877  103.139553  99.073895  148.959955  153.723548   \n",
       "1016   71.740696   78.733127   92.501683  92.318857   80.857308   81.210217   \n",
       "\n",
       "        attr1088  attr1089  \n",
       "1864  121.891606         1  \n",
       "2876  143.669681         1  \n",
       "7223   89.821000         1  \n",
       "1792  132.319630         1  \n",
       "1016   94.117250         0  \n",
       "\n",
       "[5 rows x 1091 columns]"
      ]
     },
     "execution_count": 9,
     "metadata": {},
     "output_type": "execute_result"
    }
   ],
   "source": [
    "df = pd.read_csv(\".\\data\\Ensemble Methods - Mars Crater.csv\")\n",
    "df.sample(5)"
   ]
  },
  {
   "cell_type": "code",
   "execution_count": 10,
   "metadata": {},
   "outputs": [],
   "source": [
    "X = df.drop('attr1089', axis = 1)\n",
    "y = df['attr1089'].copy()\n",
    "X_train, X_test, y_train, y_test = train_test_split(X, y, test_size = 0.3, random_state = 4)"
   ]
  },
  {
   "cell_type": "code",
   "execution_count": 11,
   "metadata": {},
   "outputs": [],
   "source": [
    "scalar = MinMaxScaler()\n",
    "scalar.fit(X_train, y_train)\n",
    "X_train = scalar.transform(X_train)\n",
    "X_test = scalar.transform(X_test)"
   ]
  },
  {
   "cell_type": "code",
   "execution_count": 12,
   "metadata": {},
   "outputs": [
    {
     "name": "stdout",
     "output_type": "stream",
     "text": [
      "roc_score:  0.834042610697639\n"
     ]
    }
   ],
   "source": [
    "from sklearn.metrics import classification_report\n",
    "from sklearn.linear_model import LogisticRegression\n",
    "from sklearn.metrics import roc_auc_score\n",
    "\n",
    "lr = LogisticRegression()\n",
    "lr.fit(X_train, y_train)\n",
    "\n",
    "y_pred = lr.predict(X_test)\n",
    "roc_score = roc_auc_score(y_test, y_pred)\n",
    "print(\"roc_score: \", roc_score)"
   ]
  },
  {
   "cell_type": "code",
   "execution_count": 13,
   "metadata": {},
   "outputs": [
    {
     "name": "stdout",
     "output_type": "stream",
     "text": [
      "roc_score:  0.8732834218291986\n"
     ]
    }
   ],
   "source": [
    "from sklearn.tree import DecisionTreeClassifier\n",
    "\n",
    "dt = DecisionTreeClassifier(random_state = 4)\n",
    "\n",
    "dt.fit(X_train, y_train)\n",
    "y_pred = dt.predict(X_test)\n",
    "\n",
    "roc_score = roc_auc_score(y_test, y_pred)\n",
    "print(\"roc_score: \", roc_score)"
   ]
  },
  {
   "cell_type": "code",
   "execution_count": 14,
   "metadata": {},
   "outputs": [
    {
     "name": "stdout",
     "output_type": "stream",
     "text": [
      "roc_score:  0.9072251284029547\n"
     ]
    }
   ],
   "source": [
    "from sklearn.ensemble import RandomForestClassifier\n",
    "\n",
    "rfc = RandomForestClassifier(random_state = 4)\n",
    "rfc.fit(X_train, y_train)\n",
    "y_pred = rfc.predict(X_test)\n",
    "\n",
    "roc_score = roc_auc_score(y_test, y_pred)\n",
    "print(\"roc_score: \", roc_score)"
   ]
  },
  {
   "cell_type": "code",
   "execution_count": 15,
   "metadata": {},
   "outputs": [
    {
     "name": "stdout",
     "output_type": "stream",
     "text": [
      "score_bagging:  0.832579185520362\n",
      "roc_score:  0.8326817973710872\n"
     ]
    }
   ],
   "source": [
    "# Import Bagging Classifier\n",
    "from sklearn.ensemble import BaggingClassifier\n",
    "\n",
    "bagging_clf = BaggingClassifier(base_estimator = DecisionTreeClassifier(), n_estimators = 100, max_samples = 100, random_state = 0)\n",
    "bagging_clf.fit(X_train, y_train)\n",
    "score_bagging  = bagging_clf.score(X_test, y_test)\n",
    "print(\"score_bagging: \", score_bagging )\n",
    "\n",
    "roc_score = roc_auc_score(y_test, bagging_clf.predict(X_test))\n",
    "print(\"roc_score: \", roc_score)"
   ]
  },
  {
   "cell_type": "code",
   "execution_count": 17,
   "metadata": {},
   "outputs": [
    {
     "name": "stdout",
     "output_type": "stream",
     "text": [
      "hard_voting_score:  0.9085972850678733\n"
     ]
    }
   ],
   "source": [
    "# Import libraries\n",
    "from sklearn.ensemble import VotingClassifier\n",
    "\n",
    "# Various models\n",
    "clf_1 = LogisticRegression()\n",
    "clf_2 = DecisionTreeClassifier(random_state=4)\n",
    "clf_3 = RandomForestClassifier(random_state=4)\n",
    "\n",
    "model_list = [('lr',clf_1),('DT',clf_2),('RF',clf_3)]\n",
    "\n",
    "voting_clf_hard = VotingClassifier(estimators = model_list, voting = 'hard')\n",
    "voting_clf_hard.fit(X_train, y_train)\n",
    "hard_voting_score = voting_clf_hard.score(X_test, y_test)\n",
    "print(\"hard_voting_score: \", hard_voting_score)"
   ]
  }
 ],
 "metadata": {
  "kernelspec": {
   "display_name": "Python 3",
   "language": "python",
   "name": "python3"
  },
  "language_info": {
   "codemirror_mode": {
    "name": "ipython",
    "version": 3
   },
   "file_extension": ".py",
   "mimetype": "text/x-python",
   "name": "python",
   "nbconvert_exporter": "python",
   "pygments_lexer": "ipython3",
   "version": "3.7.3"
  }
 },
 "nbformat": 4,
 "nbformat_minor": 2
}
