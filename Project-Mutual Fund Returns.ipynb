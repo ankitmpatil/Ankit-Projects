{
 "cells": [
  {
   "cell_type": "markdown",
   "metadata": {},
   "source": [
    "# Why solve this project?\n",
    "After completing this project you will have better understanding of how to apply linear model using GridsearchCV.\n",
    "\n",
    "* Chi square contengency test\n",
    "* Box plot\n",
    "* Linear regression\n",
    "* GridsearchCV\n",
    "* Ridge and Lasso Regressor"
   ]
  },
  {
   "cell_type": "code",
   "execution_count": 17,
   "metadata": {},
   "outputs": [],
   "source": [
    "#Task 1 - Load dataset and check summary statistics\n",
    "# import libraries\n",
    "import pandas as pd \n",
    "import numpy as np\n",
    "import matplotlib.pyplot as plt\n",
    "from sklearn.model_selection import train_test_split\n",
    "from sklearn.linear_model import LinearRegression\n",
    "from sklearn.metrics import r2_score,mean_squared_error\n",
    "from sklearn.model_selection import GridSearchCV, RandomizedSearchCV\n",
    "from sklearn.linear_model import Ridge,Lasso\n",
    "\n",
    "import warnings\n",
    "warnings.filterwarnings(\"ignore\")"
   ]
  },
  {
   "cell_type": "code",
   "execution_count": null,
   "metadata": {},
   "outputs": [],
   "source": [
    "data = pd.read_csv(r\"C:\\Users\\tdhoble\\Downloads\\Mutual Fund Returns.csv\")\n",
    "print(data.shape)\n",
    "print(data.describe())\n",
    "\n",
    "data.drop('Serial Number', axis=1, inplace=True)"
   ]
  },
  {
   "cell_type": "code",
   "execution_count": 2,
   "metadata": {},
   "outputs": [
    {
     "name": "stdout",
     "output_type": "stream",
     "text": [
      "3    3892\n",
      "4    2628\n",
      "2    2422\n",
      "0    1236\n",
      "5     956\n",
      "1     764\n",
      "Name: morningstar_return_rating, dtype: int64\n",
      "3    3845\n",
      "4    2614\n",
      "2    2218\n",
      "0    1236\n",
      "5    1080\n",
      "1     905\n",
      "Name: morningstar_risk_rating, dtype: int64\n",
      "   return  risk\n",
      "3    3892  3845\n",
      "4    2628  2614\n",
      "2    2422  2218\n",
      "0    1236  1236\n",
      "5     956  1080\n",
      "1     764   905\n"
     ]
    }
   ],
   "source": [
    "#Importing header files\n",
    "from scipy.stats import chi2_contingency\n",
    "import scipy.stats as stats\n",
    "\n",
    "#Critical value \n",
    "critical_value = stats.chi2.ppf(q = 0.95, # Find the critical value for 95% confidence*\n",
    "                      df = 11)   # Df = number of variable categories(in purpose) - 1\n",
    "\n",
    "return_rating = data['morningstar_return_rating'].value_counts()\n",
    "risk_rating = data['morningstar_risk_rating'].value_counts()\n",
    "observed = pd.concat([return_rating.transpose(), risk_rating.transpose()], axis=1, keys=['return','risk'])\n",
    "\n",
    "print(return_rating)\n",
    "print(risk_rating)\n",
    "print(observed)"
   ]
  },
  {
   "cell_type": "code",
   "execution_count": 3,
   "metadata": {},
   "outputs": [
    {
     "name": "stdout",
     "output_type": "stream",
     "text": [
      "chi2: 28.75585318206671,\n",
      " p: 2.5889934498733718e-05,\n",
      " dof: 5,\n",
      " ex: [[3868.5 3868.5]\n",
      " [2621.  2621. ]\n",
      " [2320.  2320. ]\n",
      " [1236.  1236. ]\n",
      " [1018.  1018. ]\n",
      " [ 834.5  834.5]]\n",
      "critical_value: 19.67513757268249\n"
     ]
    }
   ],
   "source": [
    "chi2, p, dof, ex = chi2_contingency(observed)\n",
    "print(\"chi2: {},\\n p: {},\\n dof: {},\\n ex: {}\".format(chi2, p, dof, ex))\n",
    "print(\"critical_value: {}\".format(critical_value))"
   ]
  },
  {
   "cell_type": "code",
   "execution_count": 4,
   "metadata": {},
   "outputs": [
    {
     "name": "stdout",
     "output_type": "stream",
     "text": [
      "Null Hypothesis can not be rejected\n"
     ]
    }
   ],
   "source": [
    "if chi2 > critical_value:\n",
    "    print(\"Null Hypothesis can not be rejected\")\n",
    "else:\n",
    "    print(\"Rejecting Null hypothesis\")"
   ]
  },
  {
   "cell_type": "code",
   "execution_count": 5,
   "metadata": {},
   "outputs": [
    {
     "data": {
      "text/html": [
       "<div>\n",
       "<style scoped>\n",
       "    .dataframe tbody tr th:only-of-type {\n",
       "        vertical-align: middle;\n",
       "    }\n",
       "\n",
       "    .dataframe tbody tr th {\n",
       "        vertical-align: top;\n",
       "    }\n",
       "\n",
       "    .dataframe thead th {\n",
       "        text-align: right;\n",
       "    }\n",
       "</style>\n",
       "<table border=\"1\" class=\"dataframe\">\n",
       "  <thead>\n",
       "    <tr style=\"text-align: right;\">\n",
       "      <th></th>\n",
       "      <th>total_net_assets</th>\n",
       "      <th>net_annual_expenses_ratio</th>\n",
       "      <th>morningstar_rating</th>\n",
       "      <th>portfolio_cash</th>\n",
       "      <th>portfolio_stocks</th>\n",
       "      <th>portfolio_bonds</th>\n",
       "      <th>portfolio_others</th>\n",
       "      <th>portfolio_preferred</th>\n",
       "      <th>portfolio_convertable</th>\n",
       "      <th>sectors_basic_materials</th>\n",
       "      <th>...</th>\n",
       "      <th>category_102</th>\n",
       "      <th>category_103</th>\n",
       "      <th>category_104</th>\n",
       "      <th>category_105</th>\n",
       "      <th>category_106</th>\n",
       "      <th>category_107</th>\n",
       "      <th>investment_0</th>\n",
       "      <th>investment_1</th>\n",
       "      <th>investment_2</th>\n",
       "      <th>bonds_aaa</th>\n",
       "    </tr>\n",
       "  </thead>\n",
       "  <tbody>\n",
       "    <tr>\n",
       "      <th>total_net_assets</th>\n",
       "      <td>1.000000</td>\n",
       "      <td>0.057418</td>\n",
       "      <td>0.147142</td>\n",
       "      <td>0.029626</td>\n",
       "      <td>0.047519</td>\n",
       "      <td>0.031818</td>\n",
       "      <td>0.032194</td>\n",
       "      <td>0.004189</td>\n",
       "      <td>0.013875</td>\n",
       "      <td>0.001509</td>\n",
       "      <td>...</td>\n",
       "      <td>0.001583</td>\n",
       "      <td>0.003768</td>\n",
       "      <td>0.032656</td>\n",
       "      <td>0.005921</td>\n",
       "      <td>0.020474</td>\n",
       "      <td>0.001892</td>\n",
       "      <td>0.054020</td>\n",
       "      <td>0.059254</td>\n",
       "      <td>0.002057</td>\n",
       "      <td>0.043320</td>\n",
       "    </tr>\n",
       "    <tr>\n",
       "      <th>net_annual_expenses_ratio</th>\n",
       "      <td>0.057418</td>\n",
       "      <td>1.000000</td>\n",
       "      <td>0.108437</td>\n",
       "      <td>0.101058</td>\n",
       "      <td>0.154936</td>\n",
       "      <td>0.203864</td>\n",
       "      <td>0.016482</td>\n",
       "      <td>0.045152</td>\n",
       "      <td>0.033294</td>\n",
       "      <td>0.059771</td>\n",
       "      <td>...</td>\n",
       "      <td>0.008594</td>\n",
       "      <td>0.015585</td>\n",
       "      <td>0.003425</td>\n",
       "      <td>0.006987</td>\n",
       "      <td>0.035547</td>\n",
       "      <td>0.049051</td>\n",
       "      <td>0.130365</td>\n",
       "      <td>0.128853</td>\n",
       "      <td>0.018996</td>\n",
       "      <td>0.236534</td>\n",
       "    </tr>\n",
       "    <tr>\n",
       "      <th>morningstar_rating</th>\n",
       "      <td>0.147142</td>\n",
       "      <td>0.108437</td>\n",
       "      <td>1.000000</td>\n",
       "      <td>0.077220</td>\n",
       "      <td>0.007753</td>\n",
       "      <td>0.040544</td>\n",
       "      <td>0.080241</td>\n",
       "      <td>0.005420</td>\n",
       "      <td>0.020478</td>\n",
       "      <td>0.002311</td>\n",
       "      <td>...</td>\n",
       "      <td>0.000206</td>\n",
       "      <td>0.032024</td>\n",
       "      <td>0.006325</td>\n",
       "      <td>0.002707</td>\n",
       "      <td>0.014802</td>\n",
       "      <td>0.028804</td>\n",
       "      <td>0.069063</td>\n",
       "      <td>0.087448</td>\n",
       "      <td>0.008971</td>\n",
       "      <td>0.032368</td>\n",
       "    </tr>\n",
       "    <tr>\n",
       "      <th>portfolio_cash</th>\n",
       "      <td>0.029626</td>\n",
       "      <td>0.101058</td>\n",
       "      <td>0.077220</td>\n",
       "      <td>1.000000</td>\n",
       "      <td>0.305599</td>\n",
       "      <td>0.005976</td>\n",
       "      <td>0.088990</td>\n",
       "      <td>0.017304</td>\n",
       "      <td>0.009242</td>\n",
       "      <td>0.038516</td>\n",
       "      <td>...</td>\n",
       "      <td>0.018653</td>\n",
       "      <td>0.077419</td>\n",
       "      <td>0.045813</td>\n",
       "      <td>0.089837</td>\n",
       "      <td>0.057446</td>\n",
       "      <td>0.016696</td>\n",
       "      <td>0.024123</td>\n",
       "      <td>0.096201</td>\n",
       "      <td>0.068273</td>\n",
       "      <td>0.060556</td>\n",
       "    </tr>\n",
       "    <tr>\n",
       "      <th>portfolio_stocks</th>\n",
       "      <td>0.047519</td>\n",
       "      <td>0.154936</td>\n",
       "      <td>0.007753</td>\n",
       "      <td>0.305599</td>\n",
       "      <td>1.000000</td>\n",
       "      <td>0.917733</td>\n",
       "      <td>0.148690</td>\n",
       "      <td>0.088568</td>\n",
       "      <td>0.121941</td>\n",
       "      <td>0.193195</td>\n",
       "      <td>...</td>\n",
       "      <td>0.039240</td>\n",
       "      <td>0.016183</td>\n",
       "      <td>0.023244</td>\n",
       "      <td>0.148121</td>\n",
       "      <td>0.158772</td>\n",
       "      <td>0.066462</td>\n",
       "      <td>0.067463</td>\n",
       "      <td>0.271101</td>\n",
       "      <td>0.192980</td>\n",
       "      <td>0.384677</td>\n",
       "    </tr>\n",
       "  </tbody>\n",
       "</table>\n",
       "<p>5 rows × 152 columns</p>\n",
       "</div>"
      ],
      "text/plain": [
       "                           total_net_assets  net_annual_expenses_ratio  \\\n",
       "total_net_assets                   1.000000                   0.057418   \n",
       "net_annual_expenses_ratio          0.057418                   1.000000   \n",
       "morningstar_rating                 0.147142                   0.108437   \n",
       "portfolio_cash                     0.029626                   0.101058   \n",
       "portfolio_stocks                   0.047519                   0.154936   \n",
       "\n",
       "                           morningstar_rating  portfolio_cash  \\\n",
       "total_net_assets                     0.147142        0.029626   \n",
       "net_annual_expenses_ratio            0.108437        0.101058   \n",
       "morningstar_rating                   1.000000        0.077220   \n",
       "portfolio_cash                       0.077220        1.000000   \n",
       "portfolio_stocks                     0.007753        0.305599   \n",
       "\n",
       "                           portfolio_stocks  portfolio_bonds  \\\n",
       "total_net_assets                   0.047519         0.031818   \n",
       "net_annual_expenses_ratio          0.154936         0.203864   \n",
       "morningstar_rating                 0.007753         0.040544   \n",
       "portfolio_cash                     0.305599         0.005976   \n",
       "portfolio_stocks                   1.000000         0.917733   \n",
       "\n",
       "                           portfolio_others  portfolio_preferred  \\\n",
       "total_net_assets                   0.032194             0.004189   \n",
       "net_annual_expenses_ratio          0.016482             0.045152   \n",
       "morningstar_rating                 0.080241             0.005420   \n",
       "portfolio_cash                     0.088990             0.017304   \n",
       "portfolio_stocks                   0.148690             0.088568   \n",
       "\n",
       "                           portfolio_convertable  sectors_basic_materials  \\\n",
       "total_net_assets                        0.013875                 0.001509   \n",
       "net_annual_expenses_ratio               0.033294                 0.059771   \n",
       "morningstar_rating                      0.020478                 0.002311   \n",
       "portfolio_cash                          0.009242                 0.038516   \n",
       "portfolio_stocks                        0.121941                 0.193195   \n",
       "\n",
       "                           ...  category_102  category_103  category_104  \\\n",
       "total_net_assets           ...      0.001583      0.003768      0.032656   \n",
       "net_annual_expenses_ratio  ...      0.008594      0.015585      0.003425   \n",
       "morningstar_rating         ...      0.000206      0.032024      0.006325   \n",
       "portfolio_cash             ...      0.018653      0.077419      0.045813   \n",
       "portfolio_stocks           ...      0.039240      0.016183      0.023244   \n",
       "\n",
       "                           category_105  category_106  category_107  \\\n",
       "total_net_assets               0.005921      0.020474      0.001892   \n",
       "net_annual_expenses_ratio      0.006987      0.035547      0.049051   \n",
       "morningstar_rating             0.002707      0.014802      0.028804   \n",
       "portfolio_cash                 0.089837      0.057446      0.016696   \n",
       "portfolio_stocks               0.148121      0.158772      0.066462   \n",
       "\n",
       "                           investment_0  investment_1  investment_2  bonds_aaa  \n",
       "total_net_assets               0.054020      0.059254      0.002057   0.043320  \n",
       "net_annual_expenses_ratio      0.130365      0.128853      0.018996   0.236534  \n",
       "morningstar_rating             0.069063      0.087448      0.008971   0.032368  \n",
       "portfolio_cash                 0.024123      0.096201      0.068273   0.060556  \n",
       "portfolio_stocks               0.067463      0.271101      0.192980   0.384677  \n",
       "\n",
       "[5 rows x 152 columns]"
      ]
     },
     "execution_count": 5,
     "metadata": {},
     "output_type": "execute_result"
    }
   ],
   "source": [
    "# check the correlation\n",
    "data.corr()\n",
    "correlation = data.corr().abs()\n",
    "correlation.head()"
   ]
  },
  {
   "cell_type": "code",
   "execution_count": 6,
   "metadata": {},
   "outputs": [
    {
     "data": {
      "text/plain": [
       "bonds_aaa    bonds_aaa      1.0\n",
       "category_55  category_55    1.0\n",
       "category_57  category_57    1.0\n",
       "category_58  category_58    1.0\n",
       "category_59  category_59    1.0\n",
       "dtype: float64"
      ]
     },
     "execution_count": 6,
     "metadata": {},
     "output_type": "execute_result"
    }
   ],
   "source": [
    "# unstack and sort the values\n",
    "us_correlation = correlation.unstack()\n",
    "us_correlation = us_correlation.sort_values(ascending=False)\n",
    "us_correlation.head()"
   ]
  },
  {
   "cell_type": "code",
   "execution_count": 7,
   "metadata": {},
   "outputs": [
    {
     "data": {
      "text/plain": [
       "morningstar_return_rating  morningstar_rating           0.963584\n",
       "morningstar_rating         morningstar_return_rating    0.963584\n",
       "portfolio_bonds            portfolio_stocks             0.917733\n",
       "portfolio_stocks           portfolio_bonds              0.917733\n",
       "category_12                portfolio_convertable        0.892575\n",
       "portfolio_convertable      category_12                  0.892575\n",
       "sharpe_ratio_3y            mean_annual_return_3y        0.769218\n",
       "mean_annual_return_3y      sharpe_ratio_3y              0.769218\n",
       "dtype: float64"
      ]
     },
     "execution_count": 7,
     "metadata": {},
     "output_type": "execute_result"
    }
   ],
   "source": [
    "# max correlated features between 0.75 to 1\n",
    "max_correlated = us_correlation[(us_correlation>0.75) & (us_correlation<1)]\n",
    "max_correlated"
   ]
  },
  {
   "cell_type": "code",
   "execution_count": 8,
   "metadata": {},
   "outputs": [],
   "source": [
    "data.drop(columns=['morningstar_rating','portfolio_stocks','category_12','sharpe_ratio_3y'],inplace=True)"
   ]
  },
  {
   "cell_type": "code",
   "execution_count": 9,
   "metadata": {},
   "outputs": [
    {
     "data": {
      "text/plain": [
       "[Text(0.5, 1.0, 'net_annual_expenses_ratio')]"
      ]
     },
     "execution_count": 9,
     "metadata": {},
     "output_type": "execute_result"
    },
    {
     "data": {
      "image/png": "[encoded data removed]",
      "text/plain": [
       "<Figure size 1440x576 with 2 Axes>"
      ]
     },
     "metadata": {
      "needs_background": "light"
     },
     "output_type": "display_data"
    }
   ],
   "source": [
    "#Setting up the subplots\n",
    "fig, (ax_1, ax_2) = plt.subplots(1,2, figsize=(20,8))\n",
    "\n",
    "#Plotting box plot\n",
    "ax_1.boxplot(data['price_earning'])\n",
    "\n",
    "#Setting the subplot axis title\n",
    "ax_1.set(title='price_earning')\n",
    "\n",
    "#Plotting box plot\n",
    "ax_2.boxplot(data['net_annual_expenses_ratio'])\n",
    "\n",
    "#Setting the subplot axis title\n",
    "ax_2.set(title='net_annual_expenses_ratio')"
   ]
  },
  {
   "cell_type": "code",
   "execution_count": 12,
   "metadata": {},
   "outputs": [
    {
     "name": "stdout",
     "output_type": "stream",
     "text": [
      "rmse: 15.729889665418414\n"
     ]
    }
   ],
   "source": [
    "X = data.drop('bonds_aaa', axis=1)\n",
    "y = data['bonds_aaa']\n",
    "\n",
    "X_train, X_test, y_train, y_test = train_test_split(X, y, test_size=0.3, random_state=3)\n",
    "\n",
    "lr = LinearRegression()\n",
    "lr.fit(X_train, y_train)\n",
    "y_pred = lr.predict(X_test)\n",
    "\n",
    "rmse = np.sqrt(mean_squared_error(y_test, y_pred))\n",
    "print(\"rmse: {}\".format(rmse))"
   ]
  },
  {
   "cell_type": "code",
   "execution_count": 18,
   "metadata": {},
   "outputs": [
    {
     "name": "stdout",
     "output_type": "stream",
     "text": [
      "ridge_rmse: 15.720131026226944\n"
     ]
    }
   ],
   "source": [
    "ridge_lambdas = [0.01, 0.03, 0.06, 0.1, 0.3, 0.6, 1, 3, 6, 10, 30, 60]\n",
    "lasso_lambdas = [0.0001, 0.0003, 0.0006, 0.001, 0.003, 0.006, 0.01, 0.03, 0.06, 0.1, 0.3, 0.6, 1]\n",
    "\n",
    "ridge_model = Ridge()\n",
    "ridge_grid = GridSearchCV(estimator=ridge_model, param_grid=dict(alpha=ridge_lambdas))\n",
    "ridge_grid.fit(X_train, y_train)\n",
    "y_pred = ridge_grid.predict(X_test)\n",
    "ridge_rmse = np.sqrt(mean_squared_error(y_test, y_pred))\n",
    "print(\"ridge_rmse: {}\".format(ridge_rmse))"
   ]
  },
  {
   "cell_type": "code",
   "execution_count": 20,
   "metadata": {},
   "outputs": [
    {
     "name": "stdout",
     "output_type": "stream",
     "text": [
      "lasso_rmse: 15.719153628852961\n"
     ]
    }
   ],
   "source": [
    "lasso_lambdas = [0.0001, 0.0003, 0.0006, 0.001, 0.003, 0.006, 0.01, 0.03, 0.06, 0.1, 0.3, 0.6, 1]\n",
    "\n",
    "lasso_model = Lasso()\n",
    "lasso_grid = GridSearchCV(estimator=lasso_model, param_grid=dict(alpha=lasso_lambdas))\n",
    "lasso_grid.fit(X_train, y_train)\n",
    "y_pred = lasso_grid.predict(X_test)\n",
    "lasso_rmse = np.sqrt(mean_squared_error(y_test, y_pred))\n",
    "print(\"lasso_rmse: {}\".format(lasso_rmse))"
   ]
  },
  {
   "cell_type": "code",
   "execution_count": null,
   "metadata": {},
   "outputs": [],
   "source": []
  }
 ],
 "metadata": {
  "kernelspec": {
   "display_name": "Python 3",
   "language": "python",
   "name": "python3"
  },
  "language_info": {
   "codemirror_mode": {
    "name": "ipython",
    "version": 3
   },
   "file_extension": ".py",
   "mimetype": "text/x-python",
   "name": "python",
   "nbconvert_exporter": "python",
   "pygments_lexer": "ipython3",
   "version": "3.7.3"
  }
 },
 "nbformat": 4,
 "nbformat_minor": 2
}
